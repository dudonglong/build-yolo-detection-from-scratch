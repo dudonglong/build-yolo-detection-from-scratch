{
 "cells": [
  {
   "cell_type": "code",
   "id": "initial_id",
   "metadata": {
    "collapsed": true,
    "ExecuteTime": {
     "end_time": "2025-06-05T15:44:20.005016Z",
     "start_time": "2025-06-05T15:44:19.995046Z"
    }
   },
   "source": [
    "import uvicorn\n",
    "from fastapi import FastAPI\n",
    "import nest_asyncio\n",
    "# 允许嵌套事件循环\n",
    "nest_asyncio.apply()\n",
    "#创建一个实例\n",
    "app = FastAPI()"
   ],
   "outputs": [],
   "execution_count": 3
  },
  {
   "metadata": {
    "jupyter": {
     "is_executing": true
    },
    "ExecuteTime": {
     "start_time": "2025-06-05T15:46:18.344639Z"
    }
   },
   "cell_type": "code",
   "source": [
    "#初始化实例\n",
    "@app.get(\"/\")\n",
    "async def root():\n",
    "    return {\"message\": \"Hello World\"}\n",
    "\n",
    "uvicorn.run(app, host=\"0.0.0.0\", port=8000)"
   ],
   "id": "a61e3af67c1c4f06",
   "outputs": [
    {
     "name": "stderr",
     "output_type": "stream",
     "text": [
      "INFO:     Started server process [16732]\n",
      "INFO:     Waiting for application startup.\n",
      "INFO:     Application startup complete.\n",
      "INFO:     Uvicorn running on http://0.0.0.0:8000 (Press CTRL+C to quit)\n"
     ]
    },
    {
     "name": "stdout",
     "output_type": "stream",
     "text": [
      "INFO:     127.0.0.1:60500 - \"GET / HTTP/1.1\" 200 OK\n"
     ]
    }
   ],
   "execution_count": null
  }
 ],
 "metadata": {
  "kernelspec": {
   "display_name": "Python 3",
   "language": "python",
   "name": "python3"
  },
  "language_info": {
   "codemirror_mode": {
    "name": "ipython",
    "version": 2
   },
   "file_extension": ".py",
   "mimetype": "text/x-python",
   "name": "python",
   "nbconvert_exporter": "python",
   "pygments_lexer": "ipython2",
   "version": "2.7.6"
  }
 },
 "nbformat": 4,
 "nbformat_minor": 5
}
